{
  "nbformat": 4,
  "nbformat_minor": 0,
  "metadata": {
    "colab": {
      "provenance": []
    },
    "kernelspec": {
      "name": "python3",
      "display_name": "Python 3"
    },
    "language_info": {
      "name": "python"
    }
  },
  "cells": [
    {
      "cell_type": "code",
      "execution_count": 62,
      "metadata": {
        "colab": {
          "base_uri": "https://localhost:8080/"
        },
        "id": "msnCUifepmtO",
        "outputId": "5ed64182-6a87-4d9b-bcd3-df54b249511d"
      },
      "outputs": [
        {
          "output_type": "stream",
          "name": "stdout",
          "text": [
            "Enter a number: 5\n",
            "1\n",
            "8\n",
            "27\n",
            "64\n",
            "125\n"
          ]
        }
      ],
      "source": [
        "x = int(input(\"Enter a number: \"))\n",
        "for digit in range (1,x+1):\n",
        "    print(int(digit) ** 3)\n",
        "\n"
      ]
    },
    {
      "cell_type": "code",
      "source": [
        "x =input(\"Enter a string: \")\n",
        "count=0\n",
        "for num in range(len(x)) :\n",
        "    if(x[num]==\"o\" or x[num]==\"u\" or x[num]==\"a\" or x[num]==\"i\" or x[num]==\"e\"):\n",
        "      count=count+1\n",
        "count"
      ],
      "metadata": {
        "colab": {
          "base_uri": "https://localhost:8080/"
        },
        "id": "jVzocg2wuhSA",
        "outputId": "23c05ff5-f090-4582-bde1-4c3f7b6c1db8"
      },
      "execution_count": 63,
      "outputs": [
        {
          "name": "stdout",
          "output_type": "stream",
          "text": [
            "Enter a string: abcei\n"
          ]
        },
        {
          "output_type": "execute_result",
          "data": {
            "text/plain": [
              "3"
            ]
          },
          "metadata": {},
          "execution_count": 63
        }
      ]
    },
    {
      "cell_type": "code",
      "source": [
        "fruits = (\"apple\", \"banana\", \"mango\")\n",
        "list1=list(fruits)\n",
        "list1.append(\"orange\")\n",
        "tuple1=tuple(list1)\n",
        "print(fruits,tuple1)"
      ],
      "metadata": {
        "colab": {
          "base_uri": "https://localhost:8080/"
        },
        "id": "kvPSBrLcvo4m",
        "outputId": "196f1526-d095-4959-82fd-ab79890be431"
      },
      "execution_count": 64,
      "outputs": [
        {
          "output_type": "stream",
          "name": "stdout",
          "text": [
            "('apple', 'banana', 'mango') ('apple', 'banana', 'mango', 'orange')\n"
          ]
        }
      ]
    },
    {
      "cell_type": "code",
      "source": [
        "num=[2,-7,12,0,3,1]\n",
        "minn=num[0]\n",
        "for x in num:\n",
        "  if(x<minn):\n",
        "    minn=x\n",
        "minn\n"
      ],
      "metadata": {
        "colab": {
          "base_uri": "https://localhost:8080/"
        },
        "id": "R3ww4snixE7c",
        "outputId": "433f7a06-fb03-4702-c7d9-18b9aee66f74"
      },
      "execution_count": 73,
      "outputs": [
        {
          "output_type": "execute_result",
          "data": {
            "text/plain": [
              "-7"
            ]
          },
          "metadata": {},
          "execution_count": 73
        }
      ]
    },
    {
      "cell_type": "code",
      "source": [
        "num=[2,-7,12,0,33,1]\n",
        "maxx=num[0]\n",
        "for x in num:\n",
        "  if(x>maxx):\n",
        "    maxx=x\n",
        "maxx\n"
      ],
      "metadata": {
        "colab": {
          "base_uri": "https://localhost:8080/"
        },
        "id": "tK97NdLJxsDe",
        "outputId": "925a9d8d-d16e-4171-c863-19b34708b22a"
      },
      "execution_count": 74,
      "outputs": [
        {
          "output_type": "execute_result",
          "data": {
            "text/plain": [
              "33"
            ]
          },
          "metadata": {},
          "execution_count": 74
        }
      ]
    },
    {
      "cell_type": "code",
      "source": [
        "num=[1,2,-1,4]\n",
        "result=1\n",
        "for x in num:\n",
        "  result=result*x\n",
        "result"
      ],
      "metadata": {
        "colab": {
          "base_uri": "https://localhost:8080/"
        },
        "id": "k8PtP6U2zaVs",
        "outputId": "5d33f3a6-e81a-4831-bc49-8c684fc713d1"
      },
      "execution_count": 75,
      "outputs": [
        {
          "output_type": "execute_result",
          "data": {
            "text/plain": [
              "-8"
            ]
          },
          "metadata": {},
          "execution_count": 75
        }
      ]
    },
    {
      "cell_type": "code",
      "source": [
        "fruits = [\"apple\", \"banana\", \"mango\"]\n",
        "copy=fruits[:]\n",
        "#copy=fruits.copy()\n",
        "#copy=list(fruits)\n",
        "copy\n"
      ],
      "metadata": {
        "colab": {
          "base_uri": "https://localhost:8080/"
        },
        "id": "9Kng-1lP0Dcq",
        "outputId": "e597a857-29e0-4965-95ec-02d04744cfdf"
      },
      "execution_count": 76,
      "outputs": [
        {
          "output_type": "execute_result",
          "data": {
            "text/plain": [
              "['apple', 'banana', 'mango']"
            ]
          },
          "metadata": {},
          "execution_count": 76
        }
      ]
    },
    {
      "cell_type": "code",
      "source": [
        "num = {2,-7,12,0,33,1}\n",
        "numlist=list(num)\n",
        "minn=numlist[0]\n",
        "maxx=numlist[0]\n",
        "for x in numlist:\n",
        "  if(x<minn):\n",
        "    minn=x\n",
        "  elif(x>maxx):\n",
        "    maxx=x\n",
        "print(minn,maxx)\n"
      ],
      "metadata": {
        "colab": {
          "base_uri": "https://localhost:8080/"
        },
        "id": "14viFoiC0xdP",
        "outputId": "d20b7148-0d7c-460f-ad90-d842394c818b"
      },
      "execution_count": 79,
      "outputs": [
        {
          "output_type": "stream",
          "name": "stdout",
          "text": [
            "-7 33\n"
          ]
        }
      ]
    }
  ]
}