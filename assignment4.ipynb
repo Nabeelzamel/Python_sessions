{
 "cells": [
  {
   "cell_type": "code",
   "execution_count": 28,
   "metadata": {},
   "outputs": [
    {
     "name": "stdout",
     "output_type": "stream",
     "text": [
      "0    1\n",
      "1    3\n",
      "2    5\n",
      "3    7\n",
      "4    9\n",
      "dtype: int64\n"
     ]
    }
   ],
   "source": [
    "import pandas as pd\n",
    "\n",
    "data = pd.Series([1, 3, 5, 7, 9])\n",
    "print(data)\n"
   ]
  },
  {
   "cell_type": "code",
   "execution_count": 29,
   "metadata": {},
   "outputs": [
    {
     "name": "stdout",
     "output_type": "stream",
     "text": [
      "Pandas Series: 0    1\n",
      "1    3\n",
      "2    5\n",
      "3    7\n",
      "4    9\n",
      "dtype: int64\n",
      "Converted to Python list: [1, 3, 5, 7, 9]\n",
      "Type of converted list: <class 'list'>\n"
     ]
    }
   ],
   "source": [
    "data = pd.Series([1, 3, 5, 7, 9])\n",
    "data_list = data.tolist()\n",
    "print(\"Pandas Series:\", data)\n",
    "print(\"Converted to Python list:\", data_list)\n",
    "print(\"Type of converted list:\", type(data_list))\n"
   ]
  },
  {
   "cell_type": "code",
   "execution_count": 30,
   "metadata": {},
   "outputs": [
    {
     "name": "stdout",
     "output_type": "stream",
     "text": [
      "0    False\n",
      "1    False\n",
      "2     True\n",
      "3    False\n",
      "4     True\n",
      "dtype: bool\n"
     ]
    }
   ],
   "source": [
    "series1 = pd.Series([1, 3, 5, 7, 9])\n",
    "series2 = pd.Series([2, 4, 5, 8, 9])\n",
    "\n",
    "comparison = (series1 == series2)\n",
    "print(comparison)"
   ]
  },
  {
   "cell_type": "code",
   "execution_count": 31,
   "metadata": {},
   "outputs": [
    {
     "name": "stdout",
     "output_type": "stream",
     "text": [
      "A    float64\n",
      "B     object\n",
      "dtype: object\n"
     ]
    }
   ],
   "source": [
    "data = pd.DataFrame({'A': [1, 2, 3, 4, 5], 'B': ['a', 'b', 'c', 'd', 'e']})\n",
    "\n",
    "\n",
    "data['A'] = data['A'].astype(float)\n",
    "\n",
    "print(data.dtypes)"
   ]
  },
  {
   "cell_type": "code",
   "execution_count": 32,
   "metadata": {},
   "outputs": [
    {
     "name": "stdout",
     "output_type": "stream",
     "text": [
      "      X     Y     Z\n",
      "0  6084  7056  7396\n",
      "1  7225  8836  9409\n",
      "2  9216  7921  9216\n",
      "3  6400  6889  5184\n",
      "4  7396  7396  6889\n"
     ]
    }
   ],
   "source": [
    "data = pd.DataFrame({'X':[78,85,96,80,86], 'Y':[84,94,89,83,86],'Z':[86,97,96,72,83]})\n",
    "\n",
    "powers = data.apply(lambda x: x ** 2)\n",
    "\n",
    "print(powers)"
   ]
  },
  {
   "cell_type": "code",
   "execution_count": 33,
   "metadata": {},
   "outputs": [
    {
     "name": "stdout",
     "output_type": "stream",
     "text": [
      "First three rows of the data frame:\n",
      "        name  score  attempts qualify\n",
      "a  Anastasia   12.5         1     yes\n",
      "b       Dima    9.0         3      no\n",
      "c  Katherine   16.5         2     yes\n"
     ]
    }
   ],
   "source": [
    "import numpy as np\n",
    "\n",
    "exam_data = {\n",
    "    'name': ['Anastasia', 'Dima', 'Katherine', 'James', 'Emily', 'Michael', 'Matthew', 'Laura', 'Kevin', 'Jonas'],\n",
    "    'score': [12.5, 9, 16.5, np.nan, 9, 20, 14.5, np.nan, 8, 19],\n",
    "    'attempts': [1, 3, 2, 3, 2, 3, 1, 1, 2, 1],\n",
    "    'qualify': ['yes', 'no', 'yes', 'no', 'no', 'yes', 'yes', 'no', 'no', 'yes']\n",
    "}\n",
    "\n",
    "labels = ['a', 'b', 'c', 'd', 'e', 'f', 'g', 'h', 'i', 'j']\n",
    "\n",
    "df = pd.DataFrame(exam_data, index=labels)\n",
    "\n",
    "first_three_rows = df.head(3)\n",
    "\n",
    "print(\"First three rows of the data frame:\")\n",
    "print(first_three_rows)\n"
   ]
  },
  {
   "cell_type": "code",
   "execution_count": 34,
   "metadata": {},
   "outputs": [
    {
     "name": "stdout",
     "output_type": "stream",
     "text": [
      "Default Index:\n",
      "     ID Grade            Name         DOB  Age\n",
      "0  S001     V  Alberto Franco  15/05/2002   35\n",
      "1  S002     V    Gino Mcneill  17/05/2002   32\n",
      "2  S003    VI     Ryan Parkes  16/02/1999   33\n",
      "3  S004    VI    Eesha Hinton  25/09/1998   30\n",
      "4  S005     V    Gino Mcneill  11/05/2002   31\n",
      "5  S006    VI    David Parkes  15/09/1997   32\n",
      "\n",
      "After setting 'ID' as index:\n",
      "     Grade            Name         DOB  Age\n",
      "ID                                         \n",
      "S001     V  Alberto Franco  15/05/2002   35\n",
      "S002     V    Gino Mcneill  17/05/2002   32\n",
      "S003    VI     Ryan Parkes  16/02/1999   33\n",
      "S004    VI    Eesha Hinton  25/09/1998   30\n",
      "S005     V    Gino Mcneill  11/05/2002   31\n",
      "S006    VI    David Parkes  15/09/1997   32\n"
     ]
    }
   ],
   "source": [
    "data = {\n",
    "    'ID': ['S001', 'S002', 'S003', 'S004', 'S005', 'S006'],\n",
    "    'Grade': ['V', 'V', 'VI', 'VI', 'V', 'VI'],\n",
    "    'Name': ['Alberto Franco', 'Gino Mcneill', 'Ryan Parkes', 'Eesha Hinton', 'Gino Mcneill', 'David Parkes'],\n",
    "    'DOB': ['15/05/2002', '17/05/2002', '16/02/1999', '25/09/1998', '11/05/2002', '15/09/1997'],\n",
    "    'Age': [35, 32, 33, 30, 31, 32]\n",
    "}\n",
    "\n",
    "df = pd.DataFrame(data)\n",
    "\n",
    "print(\"Default Index:\")\n",
    "print(df)\n",
    "\n",
    "df.set_index('ID', inplace=True)\n",
    "print(\"\\nAfter setting 'ID' as index:\")\n",
    "print(df)\n"
   ]
  },
  {
   "cell_type": "code",
   "execution_count": 35,
   "metadata": {},
   "outputs": [
    {
     "name": "stdout",
     "output_type": "stream",
     "text": [
      "Default Index:\n",
      "     ID Grade            Name         DOB  Age\n",
      "0  S001     V  Alberto Franco  15/05/2002   35\n",
      "1  S002     V    Gino Mcneill  17/05/2002   32\n",
      "2  S003    VI     Ryan Parkes  16/02/1999   33\n",
      "3  S004    VI    Eesha Hinton  25/09/1998   30\n",
      "4  S005     V    Gino Mcneill  11/05/2002   31\n",
      "5  S006    VI    David Parkes  15/09/1997   32\n",
      "\n",
      "After setting 'ID' as index:\n",
      "     Grade            Name         DOB  Age\n",
      "ID                                         \n",
      "S001     V  Alberto Franco  15/05/2002   35\n",
      "S002     V    Gino Mcneill  17/05/2002   32\n",
      "S003    VI     Ryan Parkes  16/02/1999   33\n",
      "S004    VI    Eesha Hinton  25/09/1998   30\n",
      "S005     V    Gino Mcneill  11/05/2002   31\n",
      "S006    VI    David Parkes  15/09/1997   32\n",
      "\n",
      "After resetting index:\n",
      "     ID Grade            Name         DOB  Age\n",
      "0  S001     V  Alberto Franco  15/05/2002   35\n",
      "1  S002     V    Gino Mcneill  17/05/2002   32\n",
      "2  S003    VI     Ryan Parkes  16/02/1999   33\n",
      "3  S004    VI    Eesha Hinton  25/09/1998   30\n",
      "4  S005     V    Gino Mcneill  11/05/2002   31\n",
      "5  S006    VI    David Parkes  15/09/1997   32\n"
     ]
    }
   ],
   "source": [
    "df = pd.DataFrame(data)\n",
    "\n",
    "print(\"Default Index:\")\n",
    "print(df)\n",
    "\n",
    "df.set_index('ID', inplace=True)\n",
    "print(\"\\nAfter setting 'ID' as index:\")\n",
    "print(df)\n",
    "\n",
    "df.reset_index(inplace=True)\n",
    "print(\"\\nAfter resetting index:\")\n",
    "print(df)"
   ]
  },
  {
   "cell_type": "code",
   "execution_count": 36,
   "metadata": {},
   "outputs": [
    {
     "name": "stdout",
     "output_type": "stream",
     "text": [
      "            A\n",
      "2022-01-01  1\n",
      "2022-01-02  2\n",
      "2022-01-03  3\n",
      "2022-01-04  4\n",
      "2022-01-05  5\n"
     ]
    }
   ],
   "source": [
    "dates = pd.date_range('2022-01-01', periods=5)\n",
    "df = pd.DataFrame({'A': [1, 2, 3, 4, 5]}, index=dates)\n",
    "\n",
    "print(df)"
   ]
  },
  {
   "cell_type": "code",
   "execution_count": 37,
   "metadata": {},
   "outputs": [
    {
     "name": "stdout",
     "output_type": "stream",
     "text": [
      "                 A\n",
      "CustomIndexName   \n",
      "0                1\n",
      "1                2\n",
      "2                3\n",
      "3                4\n",
      "4                5\n"
     ]
    }
   ],
   "source": [
    "data = {'A': [1, 2, 3, 4, 5]}\n",
    "df = pd.DataFrame(data)\n",
    "df.index.name = 'CustomIndexName'\n",
    "\n",
    "print(df)"
   ]
  },
  {
   "cell_type": "code",
   "execution_count": 38,
   "metadata": {},
   "outputs": [
    {
     "name": "stdout",
     "output_type": "stream",
     "text": [
      "3\n",
      "A    2\n",
      "B    7\n",
      "Name: b, dtype: int64\n"
     ]
    }
   ],
   "source": [
    "series = pd.Series([1, 2, 3, 4, 5], index=['a', 'b', 'c', 'd', 'e'])\n",
    "\n",
    "selected_row = series.iloc[2]\n",
    "print(selected_row)\n",
    "\n",
    "df = pd.DataFrame({'A': [1, 2, 3, 4, 5], 'B': [6, 7, 8, 9, 10]}, index=['a', 'b', 'c', 'd', 'e'])\n",
    "\n",
    "selected_row_df = df.iloc[1]\n",
    "print(selected_row_df)"
   ]
  }
 ],
 "metadata": {
  "language_info": {
   "name": "python"
  }
 },
 "nbformat": 4,
 "nbformat_minor": 2
}
