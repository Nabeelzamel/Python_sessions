{
 "cells": [
  {
   "cell_type": "code",
   "execution_count": 1,
   "metadata": {},
   "outputs": [
    {
     "name": "stdout",
     "output_type": "stream",
     "text": [
      "True\n",
      "False\n"
     ]
    }
   ],
   "source": [
    "import numpy as np\n",
    "\n",
    "def none_zero(arr):\n",
    "    return np.all(arr != 0)\n",
    "\n",
    "arr = np.array([1, 2, 3, 4, 5])\n",
    "print(none_zero(arr))  \n",
    "\n",
    "arr = np.array([1, 2, 0, 4, 5])\n",
    "print(none_zero(arr))  \n"
   ]
  },
  {
   "cell_type": "code",
   "execution_count": 2,
   "metadata": {},
   "outputs": [
    {
     "name": "stdout",
     "output_type": "stream",
     "text": [
      "False\n",
      "True\n"
     ]
    }
   ],
   "source": [
    "def any_non_zero(arr):\n",
    "    return np.any(arr != 0)\n",
    "\n",
    "arr = np.array([0, 0, 0, 0, 0])\n",
    "print(any_non_zero(arr))  \n",
    "\n",
    "arr = np.array([0, 0, 3, 0, 0])\n",
    "print(any_non_zero(arr))  \n"
   ]
  },
  {
   "cell_type": "code",
   "execution_count": 5,
   "metadata": {},
   "outputs": [
    {
     "name": "stdout",
     "output_type": "stream",
     "text": [
      "[False False False]\n"
     ]
    }
   ],
   "source": [
    "def element_wise_comparison(arr1, arr2, tol=1e-8):\n",
    "    return np.isclose(arr1, arr2, atol=tol)\n",
    "\n",
    "arr1 = np.array([1, 2, 3])\n",
    "arr2 = np.array([1.01, 2.01, 3.01])\n",
    "print(element_wise_comparison(arr1, arr2))  \n"
   ]
  },
  {
   "cell_type": "code",
   "execution_count": 6,
   "metadata": {},
   "outputs": [
    {
     "name": "stdout",
     "output_type": "stream",
     "text": [
      "[0. 0. 0. 0. 0. 0. 0. 0. 0. 0. 1. 1. 1. 1. 1. 1. 1. 1. 1. 1. 5. 5. 5. 5.\n",
      " 5. 5. 5. 5. 5. 5.]\n"
     ]
    }
   ],
   "source": [
    "\n",
    "arr = np.concatenate((np.zeros(10), np.ones(10), np.ones(10) * 5))\n",
    "print(arr)\n"
   ]
  },
  {
   "cell_type": "code",
   "execution_count": 7,
   "metadata": {},
   "outputs": [
    {
     "name": "stdout",
     "output_type": "stream",
     "text": [
      "[30 31 32 33 34 35 36 37 38 39 40 41 42 43 44 45 46 47 48 49 50 51 52 53\n",
      " 54 55 56 57 58 59 60 61 62 63 64 65 66 67 68 69 70]\n"
     ]
    }
   ],
   "source": [
    "arr = np.arange(30, 71)\n",
    "print(arr)"
   ]
  },
  {
   "cell_type": "code",
   "execution_count": 9,
   "metadata": {},
   "outputs": [
    {
     "name": "stdout",
     "output_type": "stream",
     "text": [
      "[[1. 0. 0.]\n",
      " [0. 1. 0.]\n",
      " [0. 0. 1.]]\n"
     ]
    }
   ],
   "source": [
    "arr = np.eye(3)\n",
    "print(arr)"
   ]
  },
  {
   "cell_type": "code",
   "execution_count": 11,
   "metadata": {},
   "outputs": [
    {
     "name": "stdout",
     "output_type": "stream",
     "text": [
      "0.5012401371269909\n"
     ]
    }
   ],
   "source": [
    "x = np.random.rand()\n",
    "print(x)"
   ]
  },
  {
   "cell_type": "code",
   "execution_count": 13,
   "metadata": {},
   "outputs": [
    {
     "name": "stdout",
     "output_type": "stream",
     "text": [
      "[0.59011387 0.89510817 0.2847897  0.12228478 0.54463189 0.5641689\n",
      " 0.44235611 0.76959785 0.23460362 0.37041362 0.07417219 0.02338748\n",
      " 0.38902701 0.86168512 0.40262835]\n"
     ]
    }
   ],
   "source": [
    "arr = np.random.rand(15)\n",
    "print(arr)\n"
   ]
  },
  {
   "cell_type": "code",
   "execution_count": 14,
   "metadata": {},
   "outputs": [
    {
     "name": "stdout",
     "output_type": "stream",
     "text": [
      "[16 17 18 19 20 21 22 23 24 25 26 27 28 29 30 31 32 33 34 35 36 37 38 39\n",
      " 40 41 42 43 44 45 46 47 48 49 50 51 52 53 54]\n"
     ]
    }
   ],
   "source": [
    "vector = np.arange(15, 56)\n",
    "print(vector[1:-1])"
   ]
  },
  {
   "cell_type": "code",
   "execution_count": 15,
   "metadata": {},
   "outputs": [
    {
     "name": "stdout",
     "output_type": "stream",
     "text": [
      "[2 2 4 0 6]\n"
     ]
    }
   ],
   "source": [
    "vector = np.random.randint(0, 11, size=5)\n",
    "print(vector)"
   ]
  },
  {
   "cell_type": "code",
   "execution_count": 17,
   "metadata": {},
   "outputs": [
    {
     "name": "stdout",
     "output_type": "stream",
     "text": [
      "[[1. 1. 1. 1. 1. 1. 1. 1. 1. 1.]\n",
      " [1. 0. 0. 0. 0. 0. 0. 0. 0. 1.]\n",
      " [1. 0. 0. 0. 0. 0. 0. 0. 0. 1.]\n",
      " [1. 0. 0. 0. 0. 0. 0. 0. 0. 1.]\n",
      " [1. 0. 0. 0. 0. 0. 0. 0. 0. 1.]\n",
      " [1. 0. 0. 0. 0. 0. 0. 0. 0. 1.]\n",
      " [1. 0. 0. 0. 0. 0. 0. 0. 0. 1.]\n",
      " [1. 0. 0. 0. 0. 0. 0. 0. 0. 1.]\n",
      " [1. 0. 0. 0. 0. 0. 0. 0. 0. 1.]\n",
      " [1. 1. 1. 1. 1. 1. 1. 1. 1. 1.]]\n"
     ]
    }
   ],
   "source": [
    "arr = np.zeros((10,10))\n",
    "arr[0,:] = 1\n",
    "arr[-1,:] = 1\n",
    "arr[:,0] = 1\n",
    "arr[:,-1] = 1\n",
    "print(arr)\n"
   ]
  },
  {
   "cell_type": "code",
   "execution_count": 18,
   "metadata": {},
   "outputs": [
    {
     "name": "stdout",
     "output_type": "stream",
     "text": [
      "[[1 0 0 0 0]\n",
      " [0 2 0 0 0]\n",
      " [0 0 3 0 0]\n",
      " [0 0 0 4 0]\n",
      " [0 0 0 0 5]]\n"
     ]
    }
   ],
   "source": [
    "arr = np.diag(np.arange(1, 6))\n",
    "print(arr)\n"
   ]
  },
  {
   "cell_type": "code",
   "execution_count": 20,
   "metadata": {},
   "outputs": [
    {
     "name": "stdout",
     "output_type": "stream",
     "text": [
      "[[0. 1. 0. 1.]\n",
      " [1. 0. 1. 0.]\n",
      " [0. 1. 0. 1.]\n",
      " [1. 0. 1. 0.]]\n"
     ]
    }
   ],
   "source": [
    "arr = np.zeros((4,4))\n",
    "arr[::2, 1::2] = 1\n",
    "arr[1::2, ::2] = 1\n",
    "print(arr)"
   ]
  },
  {
   "cell_type": "code",
   "execution_count": 23,
   "metadata": {},
   "outputs": [
    {
     "name": "stdout",
     "output_type": "stream",
     "text": [
      "NpzFile 'arrays.npz' with keys: array1, array2\n",
      "Array 1: [1 2 3]\n",
      "Array 2: [4 5 6]\n"
     ]
    }
   ],
   "source": [
    "array1 = np.array([1, 2, 3])\n",
    "array2 = np.array([4, 5, 6])\n",
    "\n",
    "np.savez_compressed('arrays.npz', array1=array1, array2=array2)\n",
    "\n",
    "loaded_data = np.load('arrays.npz')\n",
    "array1_loaded = loaded_data['array1']\n",
    "array2_loaded = loaded_data['array2']\n",
    "\n",
    "print(loaded_data)\n",
    "print(\"Array 1:\", array1_loaded)\n",
    "print(\"Array 2:\", array2_loaded)"
   ]
  },
  {
   "cell_type": "code",
   "execution_count": 25,
   "metadata": {},
   "outputs": [
    {
     "name": "stdout",
     "output_type": "stream",
     "text": [
      "[0.82877889 0.03935351 0.20938485 0.46391157 0.21617099 0.52282232\n",
      " 0.06583719 0.48437398 0.67922346 0.40681089 0.97420782 0.27815027\n",
      " 0.65189929 0.75476685 0.15695535 0.51810389 0.51951888 0.48612209\n",
      " 0.9188387  0.20587243 0.50830953 0.5533929  0.14617893 0.85047902\n",
      " 0.14666205 0.30068391 0.13037474 0.92922279 0.85592789 0.10519042\n",
      " 0.74863668 0.09925916 0.50234953 0.5787616  0.07461818 0.61541847\n",
      " 0.19071584 0.01510085 0.37734422 0.79050061]\n"
     ]
    }
   ],
   "source": [
    "random_array = np.random.rand(40)\n",
    "print(random_array)"
   ]
  },
  {
   "cell_type": "code",
   "execution_count": 30,
   "metadata": {},
   "outputs": [
    {
     "name": "stdout",
     "output_type": "stream",
     "text": [
      "enter number:\n",
      "Numbers less than 5 : [4 2 1 3]\n",
      "Numbers greater than 5 : [8 7 9 8]\n"
     ]
    }
   ],
   "source": [
    "def extract_numbers(arr, num):\n",
    "    less_than = arr[arr < num]\n",
    "    greater_than = arr[arr > num]\n",
    "    return less_than, greater_than\n",
    "\n",
    "arr = np.array([8,4,7,2,1,3,9,8])\n",
    "num = int(input(print(\"enter number:\")))\n",
    "less_than_num, greater_than_num = extract_numbers(arr, num)\n",
    "\n",
    "print(\"Numbers less than\", num, \":\", less_than_num)\n",
    "print(\"Numbers greater than\", num, \":\", greater_than_num)"
   ]
  }
 ],
 "metadata": {
  "kernelspec": {
   "display_name": "Python 3",
   "language": "python",
   "name": "python3"
  },
  "language_info": {
   "codemirror_mode": {
    "name": "ipython",
    "version": 3
   },
   "file_extension": ".py",
   "mimetype": "text/x-python",
   "name": "python",
   "nbconvert_exporter": "python",
   "pygments_lexer": "ipython3",
   "version": "3.11.9"
  }
 },
 "nbformat": 4,
 "nbformat_minor": 2
}
