{
 "cells": [
  {
   "cell_type": "code",
   "execution_count": 2,
   "metadata": {
    "colab": {
     "base_uri": "https://localhost:8080/"
    },
    "id": "LkGlzJ5V_tj8",
    "outputId": "139d46df-fe48-4932-ba2e-d21f294f976c"
   },
   "outputs": [
    {
     "name": "stdout",
     "output_type": "stream",
     "text": [
      "<class 'float'>\n"
     ]
    }
   ],
   "source": [
    "x = 5\n",
    "x =float(x)\n",
    "print(type(x))"
   ]
  },
  {
   "cell_type": "code",
   "execution_count": 1,
   "metadata": {
    "colab": {
     "base_uri": "https://localhost:8080/"
    },
    "id": "26jdBMaO_5Na",
    "outputId": "9d25c09e-549a-4c66-bcde-fbb18be59173"
   },
   "outputs": [
    {
     "name": "stdout",
     "output_type": "stream",
     "text": [
      "5\n",
      "<class 'int'>\n"
     ]
    }
   ],
   "source": [
    "x = 5.5\n",
    "x =int(x)\n",
    "print(x)\n",
    "print(type(x))"
   ]
  },
  {
   "cell_type": "code",
   "execution_count": 4,
   "metadata": {
    "colab": {
     "base_uri": "https://localhost:8080/"
    },
    "id": "SdGi7FSS7GwC",
    "outputId": "6e0126c5-7347-4fde-8e0a-7d8ccc3eb2ee"
   },
   "outputs": [
    {
     "name": "stdout",
     "output_type": "stream",
     "text": [
      "11\n"
     ]
    }
   ],
   "source": [
    "x = \"Hello World\"\n",
    "print(len(x))"
   ]
  },
  {
   "cell_type": "code",
   "execution_count": 5,
   "metadata": {
    "colab": {
     "base_uri": "https://localhost:8080/"
    },
    "id": "4jI9W7Qc7nwY",
    "outputId": "77bad4f2-e7b0-4fa5-d4fd-1aae633881cc"
   },
   "outputs": [
    {
     "name": "stdout",
     "output_type": "stream",
     "text": [
      "H\n"
     ]
    }
   ],
   "source": [
    "txt = \"Hello World\"\n",
    "x = txt[0]\n",
    "print(x)"
   ]
  },
  {
   "cell_type": "code",
   "execution_count": 11,
   "metadata": {
    "colab": {
     "base_uri": "https://localhost:8080/"
    },
    "id": "iNVQ3DSq-UZ0",
    "outputId": "b3dcf003-d0b4-4ef8-def2-26c3e47b397c"
   },
   "outputs": [
    {
     "name": "stdout",
     "output_type": "stream",
     "text": [
      "llo\n"
     ]
    }
   ],
   "source": [
    "txt = \"Hello World\"\n",
    "x = txt[2:5:1]\n",
    "print(x)"
   ]
  },
  {
   "cell_type": "code",
   "execution_count": 13,
   "metadata": {
    "colab": {
     "base_uri": "https://localhost:8080/"
    },
    "id": "DqiIG8R3_Y9m",
    "outputId": "7aaff5c5-af26-4f46-efde-30297ba98cad"
   },
   "outputs": [
    {
     "name": "stdout",
     "output_type": "stream",
     "text": [
      "Hello World\n"
     ]
    }
   ],
   "source": [
    "txt = \" Hello World\"\n",
    "x = txt.strip()\n",
    "print(x)"
   ]
  },
  {
   "cell_type": "code",
   "execution_count": 14,
   "metadata": {
    "colab": {
     "base_uri": "https://localhost:8080/"
    },
    "id": "X0m95AsUA0ig",
    "outputId": "9acec6e4-313a-4aa4-e84e-097336ca0511"
   },
   "outputs": [
    {
     "name": "stdout",
     "output_type": "stream",
     "text": [
      " HELLO WORLD\n"
     ]
    }
   ],
   "source": [
    "txt = \" Hello World\"\n",
    "x = txt.upper()\n",
    "print(x)"
   ]
  },
  {
   "cell_type": "code",
   "execution_count": 16,
   "metadata": {
    "colab": {
     "base_uri": "https://localhost:8080/"
    },
    "id": "38fdIW3XA_8g",
    "outputId": "4070c3cb-b991-425f-f731-4cdeb9a56816"
   },
   "outputs": [
    {
     "name": "stdout",
     "output_type": "stream",
     "text": [
      " hello world\n"
     ]
    }
   ],
   "source": [
    "txt = \" Hello World\"\n",
    "x = txt.lower()\n",
    "print(x)"
   ]
  },
  {
   "cell_type": "code",
   "execution_count": 17,
   "metadata": {
    "colab": {
     "base_uri": "https://localhost:8080/"
    },
    "id": "1Nwt65xhBLz5",
    "outputId": "5aee40fe-a758-441e-a675-a3b547bdcfcd"
   },
   "outputs": [
    {
     "name": "stdout",
     "output_type": "stream",
     "text": [
      " Jello World\n"
     ]
    }
   ],
   "source": [
    "txt = \" Hello World\"\n",
    "x = txt.replace(\"H\",\"J\")\n",
    "print(x)"
   ]
  },
  {
   "cell_type": "code",
   "execution_count": 18,
   "metadata": {
    "colab": {
     "base_uri": "https://localhost:8080/"
    },
    "id": "LPruVTh3BUua",
    "outputId": "e78bce06-8dec-4852-e740-d32c2d2fbca6"
   },
   "outputs": [
    {
     "name": "stdout",
     "output_type": "stream",
     "text": [
      "My name is John, and I am 36\n"
     ]
    }
   ],
   "source": [
    "age = 36\n",
    "txt = f\"My name is John, and I am {age}\"\n",
    "print(txt)"
   ]
  },
  {
   "cell_type": "code",
   "execution_count": 20,
   "metadata": {
    "colab": {
     "base_uri": "https://localhost:8080/"
    },
    "id": "8U_A5TWhByHg",
    "outputId": "155821f1-d490-43cb-9897-6d4268a6cfc8"
   },
   "outputs": [
    {
     "name": "stdout",
     "output_type": "stream",
     "text": [
      "True\n",
      "False\n",
      "False\n"
     ]
    }
   ],
   "source": [
    "print(10 > 9)\n",
    "#true\n",
    "print(10 == 9)\n",
    "#false\n",
    "print(10 < 9)\n",
    "#false\n"
   ]
  },
  {
   "cell_type": "markdown",
   "metadata": {
    "id": "PtxQ6m6dCy-f"
   },
   "source": [
    "# **Exercise 1**"
   ]
  },
  {
   "cell_type": "code",
   "execution_count": 21,
   "metadata": {
    "colab": {
     "base_uri": "https://localhost:8080/"
    },
    "id": "Ki884mIdCkNO",
    "outputId": "94a152af-3b35-4bb4-aa12-f881d1adf5fb"
   },
   "outputs": [
    {
     "name": "stdout",
     "output_type": "stream",
     "text": [
      "Twinkle, twinkle, little star, \n",
      "\tHow I wonder what you are! \n",
      "\t\tUp above the world so high, \n",
      "\t\tLike a diamond in the sky. \n",
      "Twinkle, twinkle, little star, \n",
      "\tHow I wonder what you are!\n"
     ]
    }
   ],
   "source": [
    "print(\"Twinkle, twinkle, little star, \\n\\tHow I wonder what you are! \\n\\t\\tUp above the world so high, \\n\\t\\tLike a diamond in the sky. \\nTwinkle, twinkle, little star, \\n\\tHow I wonder what you are!\")\n"
   ]
  },
  {
   "cell_type": "markdown",
   "metadata": {
    "id": "HqSN7qKFDJHP"
   },
   "source": [
    "# **Exercise 2**"
   ]
  },
  {
   "cell_type": "code",
   "execution_count": 26,
   "metadata": {
    "colab": {
     "base_uri": "https://localhost:8080/"
    },
    "id": "IRhy4Gi2DSCE",
    "outputId": "ed675e59-7fc6-4581-b6e8-4d89482d9e2f"
   },
   "outputs": [
    {
     "name": "stdout",
     "output_type": "stream",
     "text": [
      "mohamed Nabeel\n",
      "mohamed Nabeel\n"
     ]
    }
   ],
   "source": [
    "fname=\"Nabeel\"\n",
    "lname=\"mohamed\"\n",
    "print(f\"{lname} {fname}\")\n",
    "#OR\n",
    "print(lname + \" \" + fname)"
   ]
  },
  {
   "cell_type": "markdown",
   "metadata": {
    "id": "HDAUVEuED42R"
   },
   "source": [
    "# Exercise 3\n",
    "\n"
   ]
  },
  {
   "cell_type": "code",
   "execution_count": 27,
   "metadata": {
    "colab": {
     "base_uri": "https://localhost:8080/"
    },
    "id": "WwlYBxbCD-Ca",
    "outputId": "14d03e48-db3e-4d85-db5d-ebff1391ecb3"
   },
   "outputs": [
    {
     "name": "stdout",
     "output_type": "stream",
     "text": [
      "The area of the circle with radius 1.1 = 3.7994000000000008 \n"
     ]
    }
   ],
   "source": [
    "radius = 1.1\n",
    "area = 3.14 * radius ** 2\n",
    "print(f\"The area of the circle with radius {radius} = {area} \")"
   ]
  },
  {
   "cell_type": "markdown",
   "metadata": {
    "id": "-6QLtzJbEh4-"
   },
   "source": [
    "# **Exercise 4**"
   ]
  },
  {
   "cell_type": "code",
   "execution_count": 29,
   "metadata": {
    "colab": {
     "base_uri": "https://localhost:8080/"
    },
    "id": "jUtJOT7WEzvv",
    "outputId": "fa03246e-44b3-4357-86bb-ed8051dd1597"
   },
   "outputs": [
    {
     "name": "stdout",
     "output_type": "stream",
     "text": [
      "the file extension is (java)\n"
     ]
    }
   ],
   "source": [
    "name=\"abc.java\"\n",
    "extension=name.split(\".\")\n",
    "print(f\"the file extension is ({extension[-1]})\")"
   ]
  },
  {
   "cell_type": "markdown",
   "metadata": {
    "id": "gNIVwt5uFbbP"
   },
   "source": [
    "# Exercise 5"
   ]
  },
  {
   "cell_type": "code",
   "execution_count": 37,
   "metadata": {
    "colab": {
     "base_uri": "https://localhost:8080/"
    },
    "id": "fuRfgUTPFe00",
    "outputId": "ec5ea0cd-3aa7-4c53-8280-f658f467943d"
   },
   "outputs": [
    {
     "name": "stdout",
     "output_type": "stream",
     "text": [
      "List : ['n', 'a', 'b', 'e', 'e', 'l']\n",
      "Tuple : ('n', 'a', 'b', 'e', 'e', 'l')\n",
      "['n', 'a', 'b', 'K', 'e', 'l']\n",
      "nabKel\n"
     ]
    }
   ],
   "source": [
    "str1=\"nabeel\"\n",
    "list1=list(str1)\n",
    "tuple1=tuple(str1)\n",
    "print(f'List : {list1}')\n",
    "print(f'Tuple : {tuple1}')\n",
    "list1[3]=\"K\"\n",
    "print(list1)\n",
    "str2=\"\".join(list1)\n",
    "print(str2)"
   ]
  },
  {
   "cell_type": "markdown",
   "metadata": {
    "id": "cbYPvG66HkiH"
   },
   "source": [
    "# **Exercise 6**"
   ]
  },
  {
   "cell_type": "code",
   "execution_count": 43,
   "metadata": {
    "colab": {
     "base_uri": "https://localhost:8080/"
    },
    "id": "0GV8y6PzHodi",
    "outputId": "bdda33bb-5cce-4754-a0ce-93c63634301b"
   },
   "outputs": [
    {
     "name": "stdout",
     "output_type": "stream",
     "text": [
      "Red Black\n",
      "Red Black\n"
     ]
    }
   ],
   "source": [
    "list1 = [\"Red\", \"Green\", \"White\", \"Black\"]\n",
    "print(f\"{list1[0]} {list1[-1]}\")\n",
    "#or\n",
    "print(list1[0] + \" \" + list1[-1])"
   ]
  }
 ],
 "metadata": {
  "colab": {
   "provenance": []
  },
  "kernelspec": {
   "display_name": "Python 3 (ipykernel)",
   "language": "python",
   "name": "python3"
  },
  "language_info": {
   "codemirror_mode": {
    "name": "ipython",
    "version": 3
   },
   "file_extension": ".py",
   "mimetype": "text/x-python",
   "name": "python",
   "nbconvert_exporter": "python",
   "pygments_lexer": "ipython3",
   "version": "3.11.5"
  }
 },
 "nbformat": 4,
 "nbformat_minor": 1
}
